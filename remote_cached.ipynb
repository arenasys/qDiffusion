{
  "cells": [
    {
      "cell_type": "code",
      "execution_count": null,
      "metadata": {
        "id": "whoxg9A87Zl7"
      },
      "outputs": [],
      "source": [
        "%cd /content\n",
        "!git clone https://github.com/arenatemp/sd-inference-server.git\n",
        "%cd /content/sd-inference-server\n",
        "\n",
        "model_folder = \"./models\"\n",
        "try:\n",
        "    from google.colab import drive\n",
        "    import os\n",
        "    drive.mount('/content/drive')\n",
        "    model_folder = \"/content/drive/My Drive/qDiffusion/models\"\n",
        "    !mkdir '/content/drive/My Drive/qDiffusion' -p\n",
        "    if not os.path.exists('/content/drive/My Drive/qDiffusion/models'):\n",
        "        !cp -r 'models/' '/content/drive/My Drive/qDiffusion/'\n",
        "except Exception as e:\n",
        "    pass\n",
        "\n",
        "!gdown \"10JxD-Bnd8g9XMFoKj8EK6nkPyRg2g0r0&confirm=t\" -O cached_venv.zip\n",
        "import zipfile\n",
        "with zipfile.ZipFile(\"cached_venv.zip\", 'r') as zip_ref:\n",
        "    zip_ref.extractall(\"venv\")\n",
        "import sys\n",
        "sys.path.insert(0, \"/content/sd-inference-server/venv/lib/python3.9/site-packages\")\n",
        "sys.path.insert(0, \"/content/sd-inference-server/\")\n",
        "\n",
        "import random\n",
        "import torch\n",
        "import attention\n",
        "import storage\n",
        "import wrapper\n",
        "import string\n",
        "from server import Server\n",
        "\n",
        "attention.use_optimized_attention()\n",
        "\n",
        "model_storage = storage.ModelStorage(model_folder, torch.float16, torch.float32)\n",
        "params = wrapper.GenerationParameters(model_storage, torch.device(\"cuda\"))\n",
        "\n",
        "password = ''.join(random.SystemRandom().choice(string.ascii_letters + string.digits) for _ in range(8))\n",
        "\n",
        "server = Server(params, \"127.0.0.1\", \"28888\", password)\n",
        "server.start()\n",
        "\n",
        "from pycloudflared import try_cloudflare\n",
        "tunnel_url = try_cloudflare(port=28888, verbose=False)\n",
        "print(\"ENDPOINT: \", tunnel_url.tunnel.replace(\"https\", \"wss\"))\n",
        "print(\"PASSWORD: \", password)"
      ]
    },
    {
      "cell_type": "code",
      "execution_count": null,
      "metadata": {},
      "outputs": [],
      "source": [
        "server.stop()\n",
        "drive.mount('/content/drive', force_remount=True)\n",
        "server = Server(params, \"127.0.0.1\", \"28888\", password)\n",
        "server.start()"
      ]
    }
  ],
  "metadata": {
    "accelerator": "GPU",
    "colab": {
      "provenance": []
    },
    "gpuClass": "standard",
    "kernelspec": {
      "display_name": "Python 3",
      "language": "python",
      "name": "python3"
    },
    "language_info": {
      "name": "python",
      "version": "3.10.9"
    },
    "vscode": {
      "interpreter": {
        "hash": "e7370f93d1d0cde622a1f8e1c04877d8463912d04d973331ad4851f04de6915a"
      }
    }
  },
  "nbformat": 4,
  "nbformat_minor": 0
}
