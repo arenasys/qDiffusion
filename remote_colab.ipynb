{
  "cells": [
    {
      "cell_type": "code",
      "execution_count": null,
      "metadata": {
        "id": "whoxg9A87Zl7"
      },
      "outputs": [],
      "source": [
        "%cd /content\n",
        "import IPython.display\n",
        "import os\n",
        "import sys\n",
        "\n",
        "if not os.path.exists(\"/content/sd-inference-server\"):\n",
        "    !git clone https://github.com/arenasys/sd-inference-server.git\n",
        "\n",
        "%cd /content/sd-inference-server\n",
        "!git pull\n",
        "\n",
        "model_folder = \"/content/sd-inference-server/models\"\n",
        "try:\n",
        "    # decline the popup to use the local folder ^\n",
        "    from google.colab import drive\n",
        "    drive.mount('/content/drive', force_remount=True)\n",
        "    model_folder = \"/content/drive/My Drive/qDiffusion/models\"\n",
        "    if not os.path.exists(model_folder):\n",
        "        !mkdir '/content/drive/My Drive/qDiffusion' -p\n",
        "        !cp -r 'models/' '/content/drive/My Drive/qDiffusion/'\n",
        "except Exception as e:\n",
        "    pass\n",
        "\n",
        "if not os.path.exists(\"venv\"):\n",
        "    !curl -OJL https://huggingface.co/datasets/arenasys/qDiffusion/resolve/main/cached_venv5.tar\n",
        "    !tar xf cached_venv5.tar; rm cached_venv5.tar\n",
        "    !rm /content/sd-inference-server/venv/lib/python3.10/site-packages/pathlib.py\n",
        "    !pip install timm==0.6.13\n",
        "    !pip install tomesd==0.1.3\n",
        "    !pip install torchmetrics\n",
        "    !pip install segment-anything==1.0\n",
        "    !pip install geffnet==1.0.2\n",
        "    !pip uninstall -y tensorflow\n",
        "    !source /content/sd-inference-server/venv/bin/activate; pip install diffusers==0.21.0\n",
        "\n",
        "    IPython.display.clear_output()\n",
        "\n",
        "    !apt -y update -qq\n",
        "    !wget https://github.com/camenduru/gperftools/releases/download/v1.0/libtcmalloc_minimal.so.4 -O /content/libtcmalloc_minimal.so.4\n",
        "    %env LD_PRELOAD=/content/libtcmalloc_minimal.so.4\n",
        "\n",
        "    IPython.display.clear_output()\n",
        "\n",
        "if not sys.path[0] == \"/content/sd-inference-server/\":\n",
        "    sys.path.insert(0, \"/content/sd-inference-server/venv/lib/python3.10/site-packages\")\n",
        "    sys.path.insert(0, \"/content/sd-inference-server/\")\n",
        "\n",
        "from pycloudflared import try_cloudflare\n",
        "tunnel_url = try_cloudflare(port=28888, verbose=False)\n",
        "print(\"ENDPOINT:\", tunnel_url.tunnel.replace(\"https\", \"wss\"))\n",
        "\n",
        "!python remote.py \"$model_folder\"\n",
        "\n",
        "try_cloudflare.terminate(28888)"
      ]
    }
  ],
  "metadata": {
    "accelerator": "GPU",
    "colab": {
      "provenance": []
    },
    "gpuClass": "standard",
    "kernelspec": {
      "display_name": "Python 3",
      "language": "python",
      "name": "python3"
    },
    "language_info": {
      "name": "python",
      "version": "3.10.9"
    },
    "vscode": {
      "interpreter": {
        "hash": "e7370f93d1d0cde622a1f8e1c04877d8463912d04d973331ad4851f04de6915a"
      }
    }
  },
  "nbformat": 4,
  "nbformat_minor": 0
}
